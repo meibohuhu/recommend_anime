{
 "cells": [
  {
   "cell_type": "markdown",
   "metadata": {},
   "source": [
    "## Feature extraction"
   ]
  },
  {
   "cell_type": "code",
   "execution_count": 1,
   "metadata": {},
   "outputs": [],
   "source": [
    "import numpy as np\n",
    "import pandas as pd"
   ]
  },
  {
   "cell_type": "code",
   "execution_count": 2,
   "metadata": {},
   "outputs": [],
   "source": [
    "def get_item_numeric_features(df):\n",
    "    numeric_feature_names = [\n",
    "        'all_rating_min_max',\n",
    "        'members_min_max',\n",
    "        'aired_from_min_max',\n",
    "        'aired_to_min_max'\n",
    "    ]\n",
    "    num_df = df[numeric_feature_names]\n",
    "    return num_df.to_numpy()\n",
    "\n",
    "def get_user_numeric_features(df):\n",
    "    numeric_feature_names = [\n",
    "        'user_rating_ave_min_max',\n",
    "        'user_rating_std_min_max',\n",
    "        'user_aired_from_ave_min_max',\n",
    "        'user_aired_to_ave_min_max'\n",
    "    ]\n",
    "    \n",
    "    num_df = df[numeric_feature_names]\n",
    "    return num_df.to_numpy()"
   ]
  },
  {
   "cell_type": "code",
   "execution_count": 3,
   "metadata": {},
   "outputs": [],
   "source": [
    "def get_multihot_feature(df, feat_name):\n",
    "    feat_df = df[[feat_name]]\n",
    "    feat_vecs = feat_df.to_numpy()\n",
    "    ## This function takes each row v in feat_vecs and extracts the first element, v[0].\n",
    "    # print(feat_vecs)\n",
    "    feat_vec = np.apply_along_axis(lambda v: v[0], 1, feat_vecs)\n",
    "    return feat_vec"
   ]
  },
  {
   "cell_type": "code",
   "execution_count": 4,
   "metadata": {},
   "outputs": [],
   "source": [
    "def get_label(df):\n",
    "    label_df = df[['label']]\n",
    "    return label_df.to_numpy()"
   ]
  },
  {
   "cell_type": "code",
   "execution_count": 5,
   "metadata": {},
   "outputs": [],
   "source": [
    "def get_all_features(df):\n",
    "    return ( \n",
    "        get_multihot_feature(df, 'genres_multihot'),  ## 43\n",
    "        get_multihot_feature(df, 'user_liked_genres_multihot'),  ## 43\n",
    "        get_item_numeric_features(df),   ## 4\n",
    "        get_user_numeric_features(df)  ## 4\n",
    "    )"
   ]
  },
  {
   "cell_type": "markdown",
   "metadata": {},
   "source": []
  },
  {
   "cell_type": "markdown",
   "metadata": {},
   "source": [
    "## Load Parguet Dataset"
   ]
  },
  {
   "cell_type": "code",
   "execution_count": 6,
   "metadata": {},
   "outputs": [],
   "source": [
    "import os"
   ]
  },
  {
   "cell_type": "code",
   "execution_count": 7,
   "metadata": {},
   "outputs": [],
   "source": [
    "BASE_PATH = '../dataset/'\n",
    "\n",
    "def data_files():\n",
    "    filenames = []\n",
    "    for root, dirs, files in os.walk(BASE_PATH + 'dnn_feat_eng'):\n",
    "        for file in files:\n",
    "            if file.endswith('.parquet'):\n",
    "                print('hhhh')\n",
    "                filenames.append(os.path.join(root, file))\n",
    "                \n",
    "    return filenames"
   ]
  },
  {
   "cell_type": "markdown",
   "metadata": {},
   "source": [
    "## Define Model\n",
    "x1: item categorical feature        \n",
    "x2: user categorical feature          \n",
    "x3: item numeric features          \n",
    "x4: user numeric features"
   ]
  },
  {
   "cell_type": "code",
   "execution_count": 8,
   "metadata": {},
   "outputs": [],
   "source": [
    "# pip install tensorflow\n"
   ]
  },
  {
   "cell_type": "code",
   "execution_count": 9,
   "metadata": {},
   "outputs": [],
   "source": [
    "import tensorflow as tf\n",
    "import tensorflow.keras as keras\n",
    "from tensorboard.plugins.hparams import api as hp"
   ]
  },
  {
   "cell_type": "code",
   "execution_count": 10,
   "metadata": {},
   "outputs": [],
   "source": [
    "# HP_LAYERS = hp.HParam(\"layers\", hp.IntInterval(2, 3))\n",
    "# HP_LAYER_SIZE = hp.HParam(\"layer_size\", hp.Discrete([64, 128, 256]))\n",
    "# HP_LEARN_RATE = hp.HParam(\"learn_rate\", hp.Discrete([0.001, 0.003, 0.01]))\n",
    "\n",
    "HP_LAYERS = hp.HParam(\"layers\", hp.IntInterval(2, 3))   ## choose between 2 and 3\n",
    "HP_LAYER_SIZE = hp.HParam(\"layer_size\", hp.Discrete([64, 128, 256]))\n",
    "HP_LEARN_RATE = hp.HParam(\"learn_rate\", hp.Discrete([0.001, 0.003, 0.01]))\n",
    "\n",
    "HPARAMS = [\n",
    "    HP_LAYERS,\n",
    "    HP_LAYER_SIZE,\n",
    "    HP_LEARN_RATE\n",
    "]             \n",
    "\n",
    "METRICS = [\n",
    "    hp.Metric(\n",
    "        \"batch_loss\",\n",
    "        group=\"train\",\n",
    "        display_name=\"loss (train)\",\n",
    "    ),\n",
    "    hp.Metric(\n",
    "        \"loss\",\n",
    "        group=\"validation\",\n",
    "        display_name=\"loss (val)\",\n",
    "    ),\n",
    "]"
   ]
  },
  {
   "cell_type": "code",
   "execution_count": 11,
   "metadata": {},
   "outputs": [],
   "source": [
    "def build_model(x1_shape, x2_shape, x3_shape, x4_shape, hparams):\n",
    "    x1_input = keras.layers.Input(shape=(x1_shape,))\n",
    "    x2_input = keras.layers.Input(shape=(x2_shape,))\n",
    "    x3_input = keras.layers.Input(shape=(x3_shape,))\n",
    "    x4_input = keras.layers.Input(shape=(x4_shape,))\n",
    "    \n",
    "    # compact embedding for x1 and x2\n",
    "    compact_x1 = keras.layers.Dense(10)(x1_input)\n",
    "    compact_x2 = keras.layers.Dense(10)(x2_input)\n",
    "     \n",
    "    # concat all\n",
    "    merge = keras.layers.concatenate([compact_x1, compact_x2, x3_input, x4_input])\n",
    "    \n",
    "    # hidden layers\n",
    "    h_input = merge\n",
    "    for _ in range(hparams[HP_LAYERS]):\n",
    "        h = keras.layers.Dense(hparams[HP_LAYER_SIZE], activation='relu')(h_input)\n",
    "        h_input = h\n",
    "    \n",
    "    # output\n",
    "    output = keras.layers.Dense(1, activation='sigmoid')(h_input)\n",
    "    \n",
    "    model = keras.models.Model(inputs=[x1_input, x2_input, x3_input, x4_input], outputs=output)\n",
    "    \n",
    "    # optimizer\n",
    "    opt = keras.optimizers.Adam(learning_rate=hparams[HP_LEARN_RATE])\n",
    "    model.compile(\n",
    "        loss='binary_crossentropy',\n",
    "        optimizer=opt,\n",
    "        metrics=['accuracy']\n",
    "    )\n",
    "    \n",
    "    return model"
   ]
  },
  {
   "cell_type": "markdown",
   "metadata": {},
   "source": [
    "## Load Data and Train"
   ]
  },
  {
   "cell_type": "code",
   "execution_count": 12,
   "metadata": {},
   "outputs": [],
   "source": [
    "test_x1s = []\n",
    "test_x2s = []\n",
    "test_x3s = []\n",
    "test_x4s = []\n",
    "test_ys = []"
   ]
  },
  {
   "cell_type": "code",
   "execution_count": 13,
   "metadata": {},
   "outputs": [],
   "source": [
    "\n",
    "def data_files():\n",
    "    filenames = []\n",
    "    for root, dirs, files in os.walk(BASE_PATH + 'dnn_feat_eng'):\n",
    "        for file in files:\n",
    "            if file.endswith('.parquet'):\n",
    "                filenames.append(os.path.join(root, file))\n",
    "                \n",
    "    return filenames\n",
    "\n",
    "filenames = data_files()"
   ]
  },
  {
   "cell_type": "code",
   "execution_count": 14,
   "metadata": {},
   "outputs": [],
   "source": [
    "def run_model(model_id, hparams):\n",
    "    # build model\n",
    "    model = build_model(43, 43, 4, 4, hparams)\n",
    "    print(f\"model id: {model_id}:\")\n",
    "    print({h.name: hparams[h] for h in hparams})\n",
    "\n",
    "    # config hparam logs\n",
    "    log_filename = f\"{model_id}\"\n",
    "    for h in hparams:\n",
    "        log_filename += f\"_{h.name}-{hparams[h]}\"\n",
    "    \n",
    "    log_dir = os.path.join(\"hparams\", log_filename)\n",
    "    tensorboard_callback = tf.keras.callbacks.TensorBoard(\n",
    "        log_dir = log_dir,\n",
    "        update_freq = 10,\n",
    "        profile_batch = 0\n",
    "    )\n",
    "    hparams_callback = hp.KerasCallback(log_dir, hparams)\n",
    "    \n",
    "    # train model\n",
    "    for filename in filenames[:1]:\n",
    "        df = pd.read_parquet(filename)\n",
    "\n",
    "        # shuffle and split train and test\n",
    "        train_df = df\n",
    "        train_df = df.sample(frac=0.8, random_state=666)\n",
    "        test_df = df.drop(train_df.index)\n",
    "\n",
    "        # get features: multihot, multihot, numeric, numeric\n",
    "        train_x1, train_x2, train_x3, train_x4 = get_all_features(train_df)\n",
    "        test_x1, test_x2, test_x3, test_x4 = get_all_features(test_df)\n",
    "\n",
    "        # get label\n",
    "        train_y = get_label(train_df)\n",
    "        test_y = get_label(test_df)\n",
    "\n",
    "        test_x1s.append(test_x1)\n",
    "        test_x2s.append(test_x2)\n",
    "        test_x3s.append(test_x3)\n",
    "        test_x4s.append(test_x4)\n",
    "        test_ys.append(test_y)\n",
    "\n",
    "        print('training on new dataset')\n",
    "\n",
    "        model.fit(\n",
    "            [train_x1, train_x2, train_x3, train_x4], \n",
    "            train_y, \n",
    "            validation_split=0.2,\n",
    "            batch_size=16, \n",
    "            epochs=4,\n",
    "            callbacks=[tensorboard_callback, hparams_callback]\n",
    "        )\n",
    "        return model\n",
    "\n",
    "        \n",
    "        "
   ]
  },
  {
   "cell_type": "code",
   "execution_count": 15,
   "metadata": {},
   "outputs": [],
   "source": [
    "\n",
    "def test_params():\n",
    "    with tf.summary.create_file_writer('hparams').as_default():\n",
    "            hp.hparams_config(hparams=HPARAMS, metrics=METRICS)\n",
    "            \n",
    "    model_id = 0\n",
    "    models = []\n",
    "    for layers in range(HP_LAYERS.domain.min_value, HP_LAYERS.domain.max_value + 1):\n",
    "        for size in HP_LAYER_SIZE.domain.values:\n",
    "            for rate in HP_LEARN_RATE.domain.values:\n",
    "                hparams = {\n",
    "                    HP_LAYERS: layers,\n",
    "                    HP_LAYER_SIZE: size,\n",
    "                    HP_LEARN_RATE: rate\n",
    "                }\n",
    "        \n",
    "                model = run_model(model_id, hparams)\n",
    "                print(model.layers)         # Lists all layers in the model\n",
    "                print(model.input_shape)    # Input shape expected by the model\n",
    "                print(model.output_shape)   # Output shape of the model\n",
    "                print(model.trainable)      # True if the model is trainable\n",
    "                print(model.name)           # Name of the model\n",
    "                model_id += 1\n",
    "                models.append(model)\n",
    "    return models\n"
   ]
  },
  {
   "cell_type": "code",
   "execution_count": 16,
   "metadata": {},
   "outputs": [
    {
     "name": "stdout",
     "output_type": "stream",
     "text": [
      "model id: 0:\n",
      "{'layers': 2, 'layer_size': 64, 'learn_rate': 0.001}\n",
      "training on new dataset\n",
      "Epoch 1/4\n"
     ]
    },
    {
     "name": "stderr",
     "output_type": "stream",
     "text": [
      "/opt/anaconda3/lib/python3.12/site-packages/keras/src/models/functional.py:225: UserWarning: The structure of `inputs` doesn't match the expected structure: ['keras_tensor', 'keras_tensor_1', 'keras_tensor_2', 'keras_tensor_3']. Received: the structure of inputs=('*', '*', '*', '*')\n",
      "  warnings.warn(\n"
     ]
    },
    {
     "name": "stdout",
     "output_type": "stream",
     "text": [
      "\u001b[1m31528/31528\u001b[0m \u001b[32m━━━━━━━━━━━━━━━━━━━━\u001b[0m\u001b[37m\u001b[0m \u001b[1m18s\u001b[0m 541us/step - accuracy: 0.7193 - loss: 0.5470 - val_accuracy: 0.7398 - val_loss: 0.5202\n",
      "Epoch 2/4\n",
      "\u001b[1m31528/31528\u001b[0m \u001b[32m━━━━━━━━━━━━━━━━━━━━\u001b[0m\u001b[37m\u001b[0m \u001b[1m17s\u001b[0m 547us/step - accuracy: 0.7441 - loss: 0.5155 - val_accuracy: 0.7402 - val_loss: 0.5196\n",
      "Epoch 3/4\n",
      "\u001b[1m31528/31528\u001b[0m \u001b[32m━━━━━━━━━━━━━━━━━━━━\u001b[0m\u001b[37m\u001b[0m \u001b[1m17s\u001b[0m 542us/step - accuracy: 0.7444 - loss: 0.5147 - val_accuracy: 0.7476 - val_loss: 0.5130\n",
      "Epoch 4/4\n",
      "\u001b[1m31528/31528\u001b[0m \u001b[32m━━━━━━━━━━━━━━━━━━━━\u001b[0m\u001b[37m\u001b[0m \u001b[1m17s\u001b[0m 538us/step - accuracy: 0.7456 - loss: 0.5124 - val_accuracy: 0.7485 - val_loss: 0.5096\n",
      "[<InputLayer name=input_layer, built=True>, <InputLayer name=input_layer_1, built=True>, <Dense name=dense, built=True>, <Dense name=dense_1, built=True>, <InputLayer name=input_layer_2, built=True>, <InputLayer name=input_layer_3, built=True>, <Concatenate name=concatenate, built=True>, <Dense name=dense_2, built=True>, <Dense name=dense_3, built=True>, <Dense name=dense_4, built=True>]\n",
      "[(None, 43), (None, 43), (None, 4), (None, 4)]\n",
      "(None, 1)\n",
      "True\n",
      "functional\n",
      "model id: 1:\n",
      "{'layers': 2, 'layer_size': 64, 'learn_rate': 0.003}\n",
      "training on new dataset\n",
      "Epoch 1/4\n"
     ]
    },
    {
     "name": "stderr",
     "output_type": "stream",
     "text": [
      "/opt/anaconda3/lib/python3.12/site-packages/keras/src/models/functional.py:225: UserWarning: The structure of `inputs` doesn't match the expected structure: ['keras_tensor_10', 'keras_tensor_11', 'keras_tensor_12', 'keras_tensor_13']. Received: the structure of inputs=('*', '*', '*', '*')\n",
      "  warnings.warn(\n"
     ]
    },
    {
     "name": "stdout",
     "output_type": "stream",
     "text": [
      "\u001b[1m31528/31528\u001b[0m \u001b[32m━━━━━━━━━━━━━━━━━━━━\u001b[0m\u001b[37m\u001b[0m \u001b[1m18s\u001b[0m 547us/step - accuracy: 0.7195 - loss: 0.5481 - val_accuracy: 0.7398 - val_loss: 0.5224\n",
      "Epoch 2/4\n",
      "\u001b[1m31528/31528\u001b[0m \u001b[32m━━━━━━━━━━━━━━━━━━━━\u001b[0m\u001b[37m\u001b[0m \u001b[1m17s\u001b[0m 545us/step - accuracy: 0.7412 - loss: 0.5195 - val_accuracy: 0.7379 - val_loss: 0.5250\n",
      "Epoch 3/4\n",
      "\u001b[1m31528/31528\u001b[0m \u001b[32m━━━━━━━━━━━━━━━━━━━━\u001b[0m\u001b[37m\u001b[0m \u001b[1m17s\u001b[0m 542us/step - accuracy: 0.7420 - loss: 0.5182 - val_accuracy: 0.7474 - val_loss: 0.5121\n",
      "Epoch 4/4\n",
      "\u001b[1m31528/31528\u001b[0m \u001b[32m━━━━━━━━━━━━━━━━━━━━\u001b[0m\u001b[37m\u001b[0m \u001b[1m154s\u001b[0m 5ms/step - accuracy: 0.7435 - loss: 0.5162 - val_accuracy: 0.7449 - val_loss: 0.5147\n",
      "[<InputLayer name=input_layer_4, built=True>, <InputLayer name=input_layer_5, built=True>, <Dense name=dense_5, built=True>, <Dense name=dense_6, built=True>, <InputLayer name=input_layer_6, built=True>, <InputLayer name=input_layer_7, built=True>, <Concatenate name=concatenate_1, built=True>, <Dense name=dense_7, built=True>, <Dense name=dense_8, built=True>, <Dense name=dense_9, built=True>]\n",
      "[(None, 43), (None, 43), (None, 4), (None, 4)]\n",
      "(None, 1)\n",
      "True\n",
      "functional_1\n",
      "model id: 2:\n",
      "{'layers': 2, 'layer_size': 64, 'learn_rate': 0.01}\n",
      "training on new dataset\n",
      "Epoch 1/4\n"
     ]
    },
    {
     "name": "stderr",
     "output_type": "stream",
     "text": [
      "/opt/anaconda3/lib/python3.12/site-packages/keras/src/models/functional.py:225: UserWarning: The structure of `inputs` doesn't match the expected structure: ['keras_tensor_20', 'keras_tensor_21', 'keras_tensor_22', 'keras_tensor_23']. Received: the structure of inputs=('*', '*', '*', '*')\n",
      "  warnings.warn(\n"
     ]
    },
    {
     "name": "stdout",
     "output_type": "stream",
     "text": [
      "\u001b[1m31528/31528\u001b[0m \u001b[32m━━━━━━━━━━━━━━━━━━━━\u001b[0m\u001b[37m\u001b[0m \u001b[1m18s\u001b[0m 551us/step - accuracy: 0.7127 - loss: 0.5574 - val_accuracy: 0.7410 - val_loss: 0.5222\n",
      "Epoch 2/4\n",
      "\u001b[1m31528/31528\u001b[0m \u001b[32m━━━━━━━━━━━━━━━━━━━━\u001b[0m\u001b[37m\u001b[0m \u001b[1m17s\u001b[0m 543us/step - accuracy: 0.7364 - loss: 0.5266 - val_accuracy: 0.7303 - val_loss: 0.5350\n",
      "Epoch 3/4\n",
      "\u001b[1m31528/31528\u001b[0m \u001b[32m━━━━━━━━━━━━━━━━━━━━\u001b[0m\u001b[37m\u001b[0m \u001b[1m17s\u001b[0m 541us/step - accuracy: 0.7406 - loss: 0.5226 - val_accuracy: 0.7407 - val_loss: 0.5205\n",
      "Epoch 4/4\n",
      "\u001b[1m31528/31528\u001b[0m \u001b[32m━━━━━━━━━━━━━━━━━━━━\u001b[0m\u001b[37m\u001b[0m \u001b[1m17s\u001b[0m 542us/step - accuracy: 0.7408 - loss: 0.5216 - val_accuracy: 0.7425 - val_loss: 0.5177\n",
      "[<InputLayer name=input_layer_8, built=True>, <InputLayer name=input_layer_9, built=True>, <Dense name=dense_10, built=True>, <Dense name=dense_11, built=True>, <InputLayer name=input_layer_10, built=True>, <InputLayer name=input_layer_11, built=True>, <Concatenate name=concatenate_2, built=True>, <Dense name=dense_12, built=True>, <Dense name=dense_13, built=True>, <Dense name=dense_14, built=True>]\n",
      "[(None, 43), (None, 43), (None, 4), (None, 4)]\n",
      "(None, 1)\n",
      "True\n",
      "functional_2\n",
      "model id: 3:\n",
      "{'layers': 2, 'layer_size': 128, 'learn_rate': 0.001}\n",
      "training on new dataset\n",
      "Epoch 1/4\n"
     ]
    },
    {
     "name": "stderr",
     "output_type": "stream",
     "text": [
      "/opt/anaconda3/lib/python3.12/site-packages/keras/src/models/functional.py:225: UserWarning: The structure of `inputs` doesn't match the expected structure: ['keras_tensor_30', 'keras_tensor_31', 'keras_tensor_32', 'keras_tensor_33']. Received: the structure of inputs=('*', '*', '*', '*')\n",
      "  warnings.warn(\n"
     ]
    },
    {
     "name": "stdout",
     "output_type": "stream",
     "text": [
      "\u001b[1m31528/31528\u001b[0m \u001b[32m━━━━━━━━━━━━━━━━━━━━\u001b[0m\u001b[37m\u001b[0m \u001b[1m19s\u001b[0m 588us/step - accuracy: 0.7220 - loss: 0.5453 - val_accuracy: 0.7338 - val_loss: 0.5303\n",
      "Epoch 2/4\n",
      "\u001b[1m31528/31528\u001b[0m \u001b[32m━━━━━━━━━━━━━━━━━━━━\u001b[0m\u001b[37m\u001b[0m \u001b[1m19s\u001b[0m 590us/step - accuracy: 0.7433 - loss: 0.5163 - val_accuracy: 0.7408 - val_loss: 0.5175\n",
      "Epoch 3/4\n",
      "\u001b[1m31528/31528\u001b[0m \u001b[32m━━━━━━━━━━━━━━━━━━━━\u001b[0m\u001b[37m\u001b[0m \u001b[1m20s\u001b[0m 621us/step - accuracy: 0.7453 - loss: 0.5130 - val_accuracy: 0.7462 - val_loss: 0.5141\n",
      "Epoch 4/4\n",
      "\u001b[1m31528/31528\u001b[0m \u001b[32m━━━━━━━━━━━━━━━━━━━━\u001b[0m\u001b[37m\u001b[0m \u001b[1m19s\u001b[0m 590us/step - accuracy: 0.7451 - loss: 0.5125 - val_accuracy: 0.7475 - val_loss: 0.5110\n",
      "[<InputLayer name=input_layer_12, built=True>, <InputLayer name=input_layer_13, built=True>, <Dense name=dense_15, built=True>, <Dense name=dense_16, built=True>, <InputLayer name=input_layer_14, built=True>, <InputLayer name=input_layer_15, built=True>, <Concatenate name=concatenate_3, built=True>, <Dense name=dense_17, built=True>, <Dense name=dense_18, built=True>, <Dense name=dense_19, built=True>]\n",
      "[(None, 43), (None, 43), (None, 4), (None, 4)]\n",
      "(None, 1)\n",
      "True\n",
      "functional_3\n",
      "model id: 4:\n",
      "{'layers': 2, 'layer_size': 128, 'learn_rate': 0.003}\n",
      "training on new dataset\n",
      "Epoch 1/4\n"
     ]
    },
    {
     "name": "stderr",
     "output_type": "stream",
     "text": [
      "/opt/anaconda3/lib/python3.12/site-packages/keras/src/models/functional.py:225: UserWarning: The structure of `inputs` doesn't match the expected structure: ['keras_tensor_40', 'keras_tensor_41', 'keras_tensor_42', 'keras_tensor_43']. Received: the structure of inputs=('*', '*', '*', '*')\n",
      "  warnings.warn(\n"
     ]
    },
    {
     "name": "stdout",
     "output_type": "stream",
     "text": [
      "\u001b[1m31528/31528\u001b[0m \u001b[32m━━━━━━━━━━━━━━━━━━━━\u001b[0m\u001b[37m\u001b[0m \u001b[1m20s\u001b[0m 601us/step - accuracy: 0.7211 - loss: 0.5467 - val_accuracy: 0.7364 - val_loss: 0.5243\n",
      "Epoch 2/4\n",
      "\u001b[1m31528/31528\u001b[0m \u001b[32m━━━━━━━━━━━━━━━━━━━━\u001b[0m\u001b[37m\u001b[0m \u001b[1m19s\u001b[0m 593us/step - accuracy: 0.7414 - loss: 0.5197 - val_accuracy: 0.7459 - val_loss: 0.5154\n",
      "Epoch 3/4\n",
      "\u001b[1m31528/31528\u001b[0m \u001b[32m━━━━━━━━━━━━━━━━━━━━\u001b[0m\u001b[37m\u001b[0m \u001b[1m19s\u001b[0m 596us/step - accuracy: 0.7434 - loss: 0.5172 - val_accuracy: 0.7444 - val_loss: 0.5138\n",
      "Epoch 4/4\n",
      "\u001b[1m31528/31528\u001b[0m \u001b[32m━━━━━━━━━━━━━━━━━━━━\u001b[0m\u001b[37m\u001b[0m \u001b[1m20s\u001b[0m 635us/step - accuracy: 0.7449 - loss: 0.5146 - val_accuracy: 0.7230 - val_loss: 0.5516\n",
      "[<InputLayer name=input_layer_16, built=True>, <InputLayer name=input_layer_17, built=True>, <Dense name=dense_20, built=True>, <Dense name=dense_21, built=True>, <InputLayer name=input_layer_18, built=True>, <InputLayer name=input_layer_19, built=True>, <Concatenate name=concatenate_4, built=True>, <Dense name=dense_22, built=True>, <Dense name=dense_23, built=True>, <Dense name=dense_24, built=True>]\n",
      "[(None, 43), (None, 43), (None, 4), (None, 4)]\n",
      "(None, 1)\n",
      "True\n",
      "functional_4\n",
      "model id: 5:\n",
      "{'layers': 2, 'layer_size': 128, 'learn_rate': 0.01}\n",
      "training on new dataset\n",
      "Epoch 1/4\n"
     ]
    },
    {
     "name": "stderr",
     "output_type": "stream",
     "text": [
      "/opt/anaconda3/lib/python3.12/site-packages/keras/src/models/functional.py:225: UserWarning: The structure of `inputs` doesn't match the expected structure: ['keras_tensor_50', 'keras_tensor_51', 'keras_tensor_52', 'keras_tensor_53']. Received: the structure of inputs=('*', '*', '*', '*')\n",
      "  warnings.warn(\n"
     ]
    },
    {
     "name": "stdout",
     "output_type": "stream",
     "text": [
      "\u001b[1m31528/31528\u001b[0m \u001b[32m━━━━━━━━━━━━━━━━━━━━\u001b[0m\u001b[37m\u001b[0m \u001b[1m19s\u001b[0m 591us/step - accuracy: 0.7139 - loss: 0.5556 - val_accuracy: 0.7370 - val_loss: 0.5251\n",
      "Epoch 2/4\n",
      "\u001b[1m31528/31528\u001b[0m \u001b[32m━━━━━━━━━━━━━━━━━━━━\u001b[0m\u001b[37m\u001b[0m \u001b[1m19s\u001b[0m 611us/step - accuracy: 0.7373 - loss: 0.5270 - val_accuracy: 0.7347 - val_loss: 0.5284\n",
      "Epoch 3/4\n",
      "\u001b[1m31528/31528\u001b[0m \u001b[32m━━━━━━━━━━━━━━━━━━━━\u001b[0m\u001b[37m\u001b[0m \u001b[1m19s\u001b[0m 612us/step - accuracy: 0.7379 - loss: 0.5257 - val_accuracy: 0.7394 - val_loss: 0.5301\n",
      "Epoch 4/4\n",
      "\u001b[1m31528/31528\u001b[0m \u001b[32m━━━━━━━━━━━━━━━━━━━━\u001b[0m\u001b[37m\u001b[0m \u001b[1m19s\u001b[0m 611us/step - accuracy: 0.7411 - loss: 0.5217 - val_accuracy: 0.7424 - val_loss: 0.5267\n",
      "[<InputLayer name=input_layer_20, built=True>, <InputLayer name=input_layer_21, built=True>, <Dense name=dense_25, built=True>, <Dense name=dense_26, built=True>, <InputLayer name=input_layer_22, built=True>, <InputLayer name=input_layer_23, built=True>, <Concatenate name=concatenate_5, built=True>, <Dense name=dense_27, built=True>, <Dense name=dense_28, built=True>, <Dense name=dense_29, built=True>]\n",
      "[(None, 43), (None, 43), (None, 4), (None, 4)]\n",
      "(None, 1)\n",
      "True\n",
      "functional_5\n",
      "model id: 6:\n",
      "{'layers': 2, 'layer_size': 256, 'learn_rate': 0.001}\n",
      "training on new dataset\n",
      "Epoch 1/4\n"
     ]
    },
    {
     "name": "stderr",
     "output_type": "stream",
     "text": [
      "/opt/anaconda3/lib/python3.12/site-packages/keras/src/models/functional.py:225: UserWarning: The structure of `inputs` doesn't match the expected structure: ['keras_tensor_60', 'keras_tensor_61', 'keras_tensor_62', 'keras_tensor_63']. Received: the structure of inputs=('*', '*', '*', '*')\n",
      "  warnings.warn(\n"
     ]
    },
    {
     "name": "stdout",
     "output_type": "stream",
     "text": [
      "\u001b[1m31528/31528\u001b[0m \u001b[32m━━━━━━━━━━━━━━━━━━━━\u001b[0m\u001b[37m\u001b[0m \u001b[1m25s\u001b[0m 782us/step - accuracy: 0.7214 - loss: 0.5443 - val_accuracy: 0.7373 - val_loss: 0.5250\n",
      "Epoch 2/4\n",
      "\u001b[1m31528/31528\u001b[0m \u001b[32m━━━━━━━━━━━━━━━━━━━━\u001b[0m\u001b[37m\u001b[0m \u001b[1m25s\u001b[0m 788us/step - accuracy: 0.7433 - loss: 0.5168 - val_accuracy: 0.7474 - val_loss: 0.5126\n",
      "Epoch 3/4\n",
      "\u001b[1m31528/31528\u001b[0m \u001b[32m━━━━━━━━━━━━━━━━━━━━\u001b[0m\u001b[37m\u001b[0m \u001b[1m25s\u001b[0m 794us/step - accuracy: 0.7439 - loss: 0.5146 - val_accuracy: 0.7447 - val_loss: 0.5158\n",
      "Epoch 4/4\n",
      "\u001b[1m31528/31528\u001b[0m \u001b[32m━━━━━━━━━━━━━━━━━━━━\u001b[0m\u001b[37m\u001b[0m \u001b[1m25s\u001b[0m 789us/step - accuracy: 0.7469 - loss: 0.5113 - val_accuracy: 0.7482 - val_loss: 0.5097\n",
      "[<InputLayer name=input_layer_24, built=True>, <InputLayer name=input_layer_25, built=True>, <Dense name=dense_30, built=True>, <Dense name=dense_31, built=True>, <InputLayer name=input_layer_26, built=True>, <InputLayer name=input_layer_27, built=True>, <Concatenate name=concatenate_6, built=True>, <Dense name=dense_32, built=True>, <Dense name=dense_33, built=True>, <Dense name=dense_34, built=True>]\n",
      "[(None, 43), (None, 43), (None, 4), (None, 4)]\n",
      "(None, 1)\n",
      "True\n",
      "functional_6\n",
      "model id: 7:\n",
      "{'layers': 2, 'layer_size': 256, 'learn_rate': 0.003}\n",
      "training on new dataset\n",
      "Epoch 1/4\n"
     ]
    },
    {
     "name": "stderr",
     "output_type": "stream",
     "text": [
      "/opt/anaconda3/lib/python3.12/site-packages/keras/src/models/functional.py:225: UserWarning: The structure of `inputs` doesn't match the expected structure: ['keras_tensor_70', 'keras_tensor_71', 'keras_tensor_72', 'keras_tensor_73']. Received: the structure of inputs=('*', '*', '*', '*')\n",
      "  warnings.warn(\n"
     ]
    },
    {
     "name": "stdout",
     "output_type": "stream",
     "text": [
      "\u001b[1m31528/31528\u001b[0m \u001b[32m━━━━━━━━━━━━━━━━━━━━\u001b[0m\u001b[37m\u001b[0m \u001b[1m25s\u001b[0m 783us/step - accuracy: 0.7208 - loss: 0.5481 - val_accuracy: 0.7277 - val_loss: 0.5534\n",
      "Epoch 2/4\n",
      "\u001b[1m31528/31528\u001b[0m \u001b[32m━━━━━━━━━━━━━━━━━━━━\u001b[0m\u001b[37m\u001b[0m \u001b[1m25s\u001b[0m 783us/step - accuracy: 0.7403 - loss: 0.5207 - val_accuracy: 0.7444 - val_loss: 0.5175\n",
      "Epoch 3/4\n",
      "\u001b[1m31528/31528\u001b[0m \u001b[32m━━━━━━━━━━━━━━━━━━━━\u001b[0m\u001b[37m\u001b[0m \u001b[1m25s\u001b[0m 805us/step - accuracy: 0.7421 - loss: 0.5184 - val_accuracy: 0.7463 - val_loss: 0.5121\n",
      "Epoch 4/4\n",
      "\u001b[1m31528/31528\u001b[0m \u001b[32m━━━━━━━━━━━━━━━━━━━━\u001b[0m\u001b[37m\u001b[0m \u001b[1m473s\u001b[0m 15ms/step - accuracy: 0.7446 - loss: 0.5149 - val_accuracy: 0.7436 - val_loss: 0.5158\n",
      "[<InputLayer name=input_layer_28, built=True>, <InputLayer name=input_layer_29, built=True>, <Dense name=dense_35, built=True>, <Dense name=dense_36, built=True>, <InputLayer name=input_layer_30, built=True>, <InputLayer name=input_layer_31, built=True>, <Concatenate name=concatenate_7, built=True>, <Dense name=dense_37, built=True>, <Dense name=dense_38, built=True>, <Dense name=dense_39, built=True>]\n",
      "[(None, 43), (None, 43), (None, 4), (None, 4)]\n",
      "(None, 1)\n",
      "True\n",
      "functional_7\n",
      "model id: 8:\n",
      "{'layers': 2, 'layer_size': 256, 'learn_rate': 0.01}\n",
      "training on new dataset\n",
      "Epoch 1/4\n"
     ]
    },
    {
     "name": "stderr",
     "output_type": "stream",
     "text": [
      "/opt/anaconda3/lib/python3.12/site-packages/keras/src/models/functional.py:225: UserWarning: The structure of `inputs` doesn't match the expected structure: ['keras_tensor_80', 'keras_tensor_81', 'keras_tensor_82', 'keras_tensor_83']. Received: the structure of inputs=('*', '*', '*', '*')\n",
      "  warnings.warn(\n"
     ]
    },
    {
     "name": "stdout",
     "output_type": "stream",
     "text": [
      "\u001b[1m31528/31528\u001b[0m \u001b[32m━━━━━━━━━━━━━━━━━━━━\u001b[0m\u001b[37m\u001b[0m \u001b[1m175s\u001b[0m 6ms/step - accuracy: 0.7128 - loss: 0.5571 - val_accuracy: 0.7389 - val_loss: 0.5236\n",
      "Epoch 2/4\n",
      "\u001b[1m31528/31528\u001b[0m \u001b[32m━━━━━━━━━━━━━━━━━━━━\u001b[0m\u001b[37m\u001b[0m \u001b[1m26s\u001b[0m 840us/step - accuracy: 0.7364 - loss: 0.5285 - val_accuracy: 0.7408 - val_loss: 0.5231\n",
      "Epoch 3/4\n",
      "\u001b[1m31528/31528\u001b[0m \u001b[32m━━━━━━━━━━━━━━━━━━━━\u001b[0m\u001b[37m\u001b[0m \u001b[1m25s\u001b[0m 787us/step - accuracy: 0.7400 - loss: 0.5231 - val_accuracy: 0.7348 - val_loss: 0.5362\n",
      "Epoch 4/4\n",
      "\u001b[1m31528/31528\u001b[0m \u001b[32m━━━━━━━━━━━━━━━━━━━━\u001b[0m\u001b[37m\u001b[0m \u001b[1m24s\u001b[0m 758us/step - accuracy: 0.7404 - loss: 0.5220 - val_accuracy: 0.7350 - val_loss: 0.5258\n",
      "[<InputLayer name=input_layer_32, built=True>, <InputLayer name=input_layer_33, built=True>, <Dense name=dense_40, built=True>, <Dense name=dense_41, built=True>, <InputLayer name=input_layer_34, built=True>, <InputLayer name=input_layer_35, built=True>, <Concatenate name=concatenate_8, built=True>, <Dense name=dense_42, built=True>, <Dense name=dense_43, built=True>, <Dense name=dense_44, built=True>]\n",
      "[(None, 43), (None, 43), (None, 4), (None, 4)]\n",
      "(None, 1)\n",
      "True\n",
      "functional_8\n",
      "model id: 9:\n",
      "{'layers': 3, 'layer_size': 64, 'learn_rate': 0.001}\n",
      "training on new dataset\n",
      "Epoch 1/4\n"
     ]
    },
    {
     "name": "stderr",
     "output_type": "stream",
     "text": [
      "/opt/anaconda3/lib/python3.12/site-packages/keras/src/models/functional.py:225: UserWarning: The structure of `inputs` doesn't match the expected structure: ['keras_tensor_90', 'keras_tensor_91', 'keras_tensor_92', 'keras_tensor_93']. Received: the structure of inputs=('*', '*', '*', '*')\n",
      "  warnings.warn(\n"
     ]
    },
    {
     "name": "stdout",
     "output_type": "stream",
     "text": [
      "\u001b[1m31528/31528\u001b[0m \u001b[32m━━━━━━━━━━━━━━━━━━━━\u001b[0m\u001b[37m\u001b[0m \u001b[1m18s\u001b[0m 558us/step - accuracy: 0.7207 - loss: 0.5453 - val_accuracy: 0.7432 - val_loss: 0.5154\n",
      "Epoch 2/4\n",
      "\u001b[1m31528/31528\u001b[0m \u001b[32m━━━━━━━━━━━━━━━━━━━━\u001b[0m\u001b[37m\u001b[0m \u001b[1m18s\u001b[0m 557us/step - accuracy: 0.7435 - loss: 0.5171 - val_accuracy: 0.7463 - val_loss: 0.5154\n",
      "Epoch 3/4\n",
      "\u001b[1m31528/31528\u001b[0m \u001b[32m━━━━━━━━━━━━━━━━━━━━\u001b[0m\u001b[37m\u001b[0m \u001b[1m17s\u001b[0m 552us/step - accuracy: 0.7454 - loss: 0.5133 - val_accuracy: 0.7453 - val_loss: 0.5130\n",
      "Epoch 4/4\n",
      "\u001b[1m31528/31528\u001b[0m \u001b[32m━━━━━━━━━━━━━━━━━━━━\u001b[0m\u001b[37m\u001b[0m \u001b[1m17s\u001b[0m 553us/step - accuracy: 0.7467 - loss: 0.5119 - val_accuracy: 0.7488 - val_loss: 0.5093\n",
      "[<InputLayer name=input_layer_36, built=True>, <InputLayer name=input_layer_37, built=True>, <Dense name=dense_45, built=True>, <Dense name=dense_46, built=True>, <InputLayer name=input_layer_38, built=True>, <InputLayer name=input_layer_39, built=True>, <Concatenate name=concatenate_9, built=True>, <Dense name=dense_47, built=True>, <Dense name=dense_48, built=True>, <Dense name=dense_49, built=True>, <Dense name=dense_50, built=True>]\n",
      "[(None, 43), (None, 43), (None, 4), (None, 4)]\n",
      "(None, 1)\n",
      "True\n",
      "functional_9\n",
      "model id: 10:\n",
      "{'layers': 3, 'layer_size': 64, 'learn_rate': 0.003}\n",
      "training on new dataset\n",
      "Epoch 1/4\n"
     ]
    },
    {
     "name": "stderr",
     "output_type": "stream",
     "text": [
      "/opt/anaconda3/lib/python3.12/site-packages/keras/src/models/functional.py:225: UserWarning: The structure of `inputs` doesn't match the expected structure: ['keras_tensor_101', 'keras_tensor_102', 'keras_tensor_103', 'keras_tensor_104']. Received: the structure of inputs=('*', '*', '*', '*')\n",
      "  warnings.warn(\n"
     ]
    },
    {
     "name": "stdout",
     "output_type": "stream",
     "text": [
      "\u001b[1m31528/31528\u001b[0m \u001b[32m━━━━━━━━━━━━━━━━━━━━\u001b[0m\u001b[37m\u001b[0m \u001b[1m52s\u001b[0m 2ms/step - accuracy: 0.7184 - loss: 0.5496 - val_accuracy: 0.7402 - val_loss: 0.5224\n",
      "Epoch 2/4\n",
      "\u001b[1m31528/31528\u001b[0m \u001b[32m━━━━━━━━━━━━━━━━━━━━\u001b[0m\u001b[37m\u001b[0m \u001b[1m19s\u001b[0m 592us/step - accuracy: 0.7416 - loss: 0.5200 - val_accuracy: 0.7403 - val_loss: 0.5248\n",
      "Epoch 3/4\n",
      "\u001b[1m31528/31528\u001b[0m \u001b[32m━━━━━━━━━━━━━━━━━━━━\u001b[0m\u001b[37m\u001b[0m \u001b[1m19s\u001b[0m 587us/step - accuracy: 0.7426 - loss: 0.5173 - val_accuracy: 0.7446 - val_loss: 0.5140\n",
      "Epoch 4/4\n",
      "\u001b[1m31528/31528\u001b[0m \u001b[32m━━━━━━━━━━━━━━━━━━━━\u001b[0m\u001b[37m\u001b[0m \u001b[1m19s\u001b[0m 612us/step - accuracy: 0.7446 - loss: 0.5158 - val_accuracy: 0.7445 - val_loss: 0.5137\n",
      "[<InputLayer name=input_layer_40, built=True>, <InputLayer name=input_layer_41, built=True>, <Dense name=dense_51, built=True>, <Dense name=dense_52, built=True>, <InputLayer name=input_layer_42, built=True>, <InputLayer name=input_layer_43, built=True>, <Concatenate name=concatenate_10, built=True>, <Dense name=dense_53, built=True>, <Dense name=dense_54, built=True>, <Dense name=dense_55, built=True>, <Dense name=dense_56, built=True>]\n",
      "[(None, 43), (None, 43), (None, 4), (None, 4)]\n",
      "(None, 1)\n",
      "True\n",
      "functional_10\n",
      "model id: 11:\n",
      "{'layers': 3, 'layer_size': 64, 'learn_rate': 0.01}\n",
      "training on new dataset\n",
      "Epoch 1/4\n"
     ]
    },
    {
     "name": "stderr",
     "output_type": "stream",
     "text": [
      "/opt/anaconda3/lib/python3.12/site-packages/keras/src/models/functional.py:225: UserWarning: The structure of `inputs` doesn't match the expected structure: ['keras_tensor_112', 'keras_tensor_113', 'keras_tensor_114', 'keras_tensor_115']. Received: the structure of inputs=('*', '*', '*', '*')\n",
      "  warnings.warn(\n"
     ]
    },
    {
     "name": "stdout",
     "output_type": "stream",
     "text": [
      "\u001b[1m31528/31528\u001b[0m \u001b[32m━━━━━━━━━━━━━━━━━━━━\u001b[0m\u001b[37m\u001b[0m \u001b[1m18s\u001b[0m 559us/step - accuracy: 0.7112 - loss: 0.5597 - val_accuracy: 0.7380 - val_loss: 0.5238\n",
      "Epoch 2/4\n",
      "\u001b[1m31528/31528\u001b[0m \u001b[32m━━━━━━━━━━━━━━━━━━━━\u001b[0m\u001b[37m\u001b[0m \u001b[1m18s\u001b[0m 564us/step - accuracy: 0.7368 - loss: 0.5280 - val_accuracy: 0.7344 - val_loss: 0.5320\n",
      "Epoch 3/4\n",
      "\u001b[1m31528/31528\u001b[0m \u001b[32m━━━━━━━━━━━━━━━━━━━━\u001b[0m\u001b[37m\u001b[0m \u001b[1m18s\u001b[0m 558us/step - accuracy: 0.7391 - loss: 0.5251 - val_accuracy: 0.7423 - val_loss: 0.5212\n",
      "Epoch 4/4\n",
      "\u001b[1m31528/31528\u001b[0m \u001b[32m━━━━━━━━━━━━━━━━━━━━\u001b[0m\u001b[37m\u001b[0m \u001b[1m17s\u001b[0m 555us/step - accuracy: 0.7411 - loss: 0.5225 - val_accuracy: 0.7419 - val_loss: 0.5275\n",
      "[<InputLayer name=input_layer_44, built=True>, <InputLayer name=input_layer_45, built=True>, <Dense name=dense_57, built=True>, <Dense name=dense_58, built=True>, <InputLayer name=input_layer_46, built=True>, <InputLayer name=input_layer_47, built=True>, <Concatenate name=concatenate_11, built=True>, <Dense name=dense_59, built=True>, <Dense name=dense_60, built=True>, <Dense name=dense_61, built=True>, <Dense name=dense_62, built=True>]\n",
      "[(None, 43), (None, 43), (None, 4), (None, 4)]\n",
      "(None, 1)\n",
      "True\n",
      "functional_11\n",
      "model id: 12:\n",
      "{'layers': 3, 'layer_size': 128, 'learn_rate': 0.001}\n",
      "training on new dataset\n",
      "Epoch 1/4\n"
     ]
    },
    {
     "name": "stderr",
     "output_type": "stream",
     "text": [
      "/opt/anaconda3/lib/python3.12/site-packages/keras/src/models/functional.py:225: UserWarning: The structure of `inputs` doesn't match the expected structure: ['keras_tensor_123', 'keras_tensor_124', 'keras_tensor_125', 'keras_tensor_126']. Received: the structure of inputs=('*', '*', '*', '*')\n",
      "  warnings.warn(\n"
     ]
    },
    {
     "name": "stdout",
     "output_type": "stream",
     "text": [
      "\u001b[1m31528/31528\u001b[0m \u001b[32m━━━━━━━━━━━━━━━━━━━━\u001b[0m\u001b[37m\u001b[0m \u001b[1m21s\u001b[0m 656us/step - accuracy: 0.7216 - loss: 0.5450 - val_accuracy: 0.7425 - val_loss: 0.5164\n",
      "Epoch 2/4\n",
      "\u001b[1m31528/31528\u001b[0m \u001b[32m━━━━━━━━━━━━━━━━━━━━\u001b[0m\u001b[37m\u001b[0m \u001b[1m21s\u001b[0m 655us/step - accuracy: 0.7425 - loss: 0.5181 - val_accuracy: 0.7421 - val_loss: 0.5180\n",
      "Epoch 3/4\n",
      "\u001b[1m31528/31528\u001b[0m \u001b[32m━━━━━━━━━━━━━━━━━━━━\u001b[0m\u001b[37m\u001b[0m \u001b[1m20s\u001b[0m 635us/step - accuracy: 0.7446 - loss: 0.5147 - val_accuracy: 0.7403 - val_loss: 0.5197\n",
      "Epoch 4/4\n",
      "\u001b[1m31528/31528\u001b[0m \u001b[32m━━━━━━━━━━━━━━━━━━━━\u001b[0m\u001b[37m\u001b[0m \u001b[1m21s\u001b[0m 657us/step - accuracy: 0.7461 - loss: 0.5127 - val_accuracy: 0.7467 - val_loss: 0.5111\n",
      "[<InputLayer name=input_layer_48, built=True>, <InputLayer name=input_layer_49, built=True>, <Dense name=dense_63, built=True>, <Dense name=dense_64, built=True>, <InputLayer name=input_layer_50, built=True>, <InputLayer name=input_layer_51, built=True>, <Concatenate name=concatenate_12, built=True>, <Dense name=dense_65, built=True>, <Dense name=dense_66, built=True>, <Dense name=dense_67, built=True>, <Dense name=dense_68, built=True>]\n",
      "[(None, 43), (None, 43), (None, 4), (None, 4)]\n",
      "(None, 1)\n",
      "True\n",
      "functional_12\n",
      "model id: 13:\n",
      "{'layers': 3, 'layer_size': 128, 'learn_rate': 0.003}\n",
      "training on new dataset\n",
      "Epoch 1/4\n"
     ]
    },
    {
     "name": "stderr",
     "output_type": "stream",
     "text": [
      "/opt/anaconda3/lib/python3.12/site-packages/keras/src/models/functional.py:225: UserWarning: The structure of `inputs` doesn't match the expected structure: ['keras_tensor_134', 'keras_tensor_135', 'keras_tensor_136', 'keras_tensor_137']. Received: the structure of inputs=('*', '*', '*', '*')\n",
      "  warnings.warn(\n"
     ]
    },
    {
     "name": "stdout",
     "output_type": "stream",
     "text": [
      "\u001b[1m31528/31528\u001b[0m \u001b[32m━━━━━━━━━━━━━━━━━━━━\u001b[0m\u001b[37m\u001b[0m \u001b[1m22s\u001b[0m 668us/step - accuracy: 0.7170 - loss: 0.5505 - val_accuracy: 0.7432 - val_loss: 0.5217\n",
      "Epoch 2/4\n",
      "\u001b[1m31528/31528\u001b[0m \u001b[32m━━━━━━━━━━━━━━━━━━━━\u001b[0m\u001b[37m\u001b[0m \u001b[1m20s\u001b[0m 644us/step - accuracy: 0.7404 - loss: 0.5209 - val_accuracy: 0.7422 - val_loss: 0.5201\n",
      "Epoch 3/4\n",
      "\u001b[1m31528/31528\u001b[0m \u001b[32m━━━━━━━━━━━━━━━━━━━━\u001b[0m\u001b[37m\u001b[0m \u001b[1m20s\u001b[0m 643us/step - accuracy: 0.7412 - loss: 0.5196 - val_accuracy: 0.7454 - val_loss: 0.5182\n",
      "Epoch 4/4\n",
      "\u001b[1m31528/31528\u001b[0m \u001b[32m━━━━━━━━━━━━━━━━━━━━\u001b[0m\u001b[37m\u001b[0m \u001b[1m20s\u001b[0m 634us/step - accuracy: 0.7440 - loss: 0.5161 - val_accuracy: 0.7470 - val_loss: 0.5119\n",
      "[<InputLayer name=input_layer_52, built=True>, <InputLayer name=input_layer_53, built=True>, <Dense name=dense_69, built=True>, <Dense name=dense_70, built=True>, <InputLayer name=input_layer_54, built=True>, <InputLayer name=input_layer_55, built=True>, <Concatenate name=concatenate_13, built=True>, <Dense name=dense_71, built=True>, <Dense name=dense_72, built=True>, <Dense name=dense_73, built=True>, <Dense name=dense_74, built=True>]\n",
      "[(None, 43), (None, 43), (None, 4), (None, 4)]\n",
      "(None, 1)\n",
      "True\n",
      "functional_13\n",
      "model id: 14:\n",
      "{'layers': 3, 'layer_size': 128, 'learn_rate': 0.01}\n",
      "training on new dataset\n",
      "Epoch 1/4\n"
     ]
    },
    {
     "name": "stderr",
     "output_type": "stream",
     "text": [
      "/opt/anaconda3/lib/python3.12/site-packages/keras/src/models/functional.py:225: UserWarning: The structure of `inputs` doesn't match the expected structure: ['keras_tensor_145', 'keras_tensor_146', 'keras_tensor_147', 'keras_tensor_148']. Received: the structure of inputs=('*', '*', '*', '*')\n",
      "  warnings.warn(\n"
     ]
    },
    {
     "name": "stdout",
     "output_type": "stream",
     "text": [
      "\u001b[1m31528/31528\u001b[0m \u001b[32m━━━━━━━━━━━━━━━━━━━━\u001b[0m\u001b[37m\u001b[0m \u001b[1m22s\u001b[0m 665us/step - accuracy: 0.7102 - loss: 0.5616 - val_accuracy: 0.7362 - val_loss: 0.5333\n",
      "Epoch 2/4\n",
      "\u001b[1m31528/31528\u001b[0m \u001b[32m━━━━━━━━━━━━━━━━━━━━\u001b[0m\u001b[37m\u001b[0m \u001b[1m20s\u001b[0m 641us/step - accuracy: 0.7376 - loss: 0.5274 - val_accuracy: 0.7380 - val_loss: 0.5221\n",
      "Epoch 3/4\n",
      "\u001b[1m31528/31528\u001b[0m \u001b[32m━━━━━━━━━━━━━━━━━━━━\u001b[0m\u001b[37m\u001b[0m \u001b[1m21s\u001b[0m 663us/step - accuracy: 0.7403 - loss: 0.5237 - val_accuracy: 0.7336 - val_loss: 0.5362\n",
      "Epoch 4/4\n",
      "\u001b[1m31528/31528\u001b[0m \u001b[32m━━━━━━━━━━━━━━━━━━━━\u001b[0m\u001b[37m\u001b[0m \u001b[1m20s\u001b[0m 631us/step - accuracy: 0.7408 - loss: 0.5233 - val_accuracy: 0.7245 - val_loss: 0.5436\n",
      "[<InputLayer name=input_layer_56, built=True>, <InputLayer name=input_layer_57, built=True>, <Dense name=dense_75, built=True>, <Dense name=dense_76, built=True>, <InputLayer name=input_layer_58, built=True>, <InputLayer name=input_layer_59, built=True>, <Concatenate name=concatenate_14, built=True>, <Dense name=dense_77, built=True>, <Dense name=dense_78, built=True>, <Dense name=dense_79, built=True>, <Dense name=dense_80, built=True>]\n",
      "[(None, 43), (None, 43), (None, 4), (None, 4)]\n",
      "(None, 1)\n",
      "True\n",
      "functional_14\n",
      "model id: 15:\n",
      "{'layers': 3, 'layer_size': 256, 'learn_rate': 0.001}\n",
      "training on new dataset\n",
      "Epoch 1/4\n"
     ]
    },
    {
     "name": "stderr",
     "output_type": "stream",
     "text": [
      "/opt/anaconda3/lib/python3.12/site-packages/keras/src/models/functional.py:225: UserWarning: The structure of `inputs` doesn't match the expected structure: ['keras_tensor_156', 'keras_tensor_157', 'keras_tensor_158', 'keras_tensor_159']. Received: the structure of inputs=('*', '*', '*', '*')\n",
      "  warnings.warn(\n"
     ]
    },
    {
     "name": "stdout",
     "output_type": "stream",
     "text": [
      "\u001b[1m31528/31528\u001b[0m \u001b[32m━━━━━━━━━━━━━━━━━━━━\u001b[0m\u001b[37m\u001b[0m \u001b[1m33s\u001b[0m 1ms/step - accuracy: 0.7200 - loss: 0.5471 - val_accuracy: 0.7423 - val_loss: 0.5157\n",
      "Epoch 2/4\n",
      "\u001b[1m31528/31528\u001b[0m \u001b[32m━━━━━━━━━━━━━━━━━━━━\u001b[0m\u001b[37m\u001b[0m \u001b[1m32s\u001b[0m 1ms/step - accuracy: 0.7430 - loss: 0.5171 - val_accuracy: 0.7435 - val_loss: 0.5156\n",
      "Epoch 3/4\n",
      "\u001b[1m31528/31528\u001b[0m \u001b[32m━━━━━━━━━━━━━━━━━━━━\u001b[0m\u001b[37m\u001b[0m \u001b[1m35s\u001b[0m 1ms/step - accuracy: 0.7449 - loss: 0.5147 - val_accuracy: 0.7460 - val_loss: 0.5125\n",
      "Epoch 4/4\n",
      "\u001b[1m31528/31528\u001b[0m \u001b[32m━━━━━━━━━━━━━━━━━━━━\u001b[0m\u001b[37m\u001b[0m \u001b[1m34s\u001b[0m 1ms/step - accuracy: 0.7459 - loss: 0.5122 - val_accuracy: 0.7416 - val_loss: 0.5161\n",
      "[<InputLayer name=input_layer_60, built=True>, <InputLayer name=input_layer_61, built=True>, <Dense name=dense_81, built=True>, <Dense name=dense_82, built=True>, <InputLayer name=input_layer_62, built=True>, <InputLayer name=input_layer_63, built=True>, <Concatenate name=concatenate_15, built=True>, <Dense name=dense_83, built=True>, <Dense name=dense_84, built=True>, <Dense name=dense_85, built=True>, <Dense name=dense_86, built=True>]\n",
      "[(None, 43), (None, 43), (None, 4), (None, 4)]\n",
      "(None, 1)\n",
      "True\n",
      "functional_15\n",
      "model id: 16:\n",
      "{'layers': 3, 'layer_size': 256, 'learn_rate': 0.003}\n",
      "training on new dataset\n",
      "Epoch 1/4\n"
     ]
    },
    {
     "name": "stderr",
     "output_type": "stream",
     "text": [
      "/opt/anaconda3/lib/python3.12/site-packages/keras/src/models/functional.py:225: UserWarning: The structure of `inputs` doesn't match the expected structure: ['keras_tensor_167', 'keras_tensor_168', 'keras_tensor_169', 'keras_tensor_170']. Received: the structure of inputs=('*', '*', '*', '*')\n",
      "  warnings.warn(\n"
     ]
    },
    {
     "name": "stdout",
     "output_type": "stream",
     "text": [
      "\u001b[1m31528/31528\u001b[0m \u001b[32m━━━━━━━━━━━━━━━━━━━━\u001b[0m\u001b[37m\u001b[0m \u001b[1m33s\u001b[0m 1ms/step - accuracy: 0.7190 - loss: 0.5493 - val_accuracy: 0.7431 - val_loss: 0.5183\n",
      "Epoch 2/4\n",
      "\u001b[1m31528/31528\u001b[0m \u001b[32m━━━━━━━━━━━━━━━━━━━━\u001b[0m\u001b[37m\u001b[0m \u001b[1m32s\u001b[0m 1ms/step - accuracy: 0.7395 - loss: 0.5230 - val_accuracy: 0.7455 - val_loss: 0.5207\n",
      "Epoch 3/4\n",
      "\u001b[1m31528/31528\u001b[0m \u001b[32m━━━━━━━━━━━━━━━━━━━━\u001b[0m\u001b[37m\u001b[0m \u001b[1m32s\u001b[0m 1ms/step - accuracy: 0.7431 - loss: 0.5191 - val_accuracy: 0.7453 - val_loss: 0.5140\n",
      "Epoch 4/4\n",
      "\u001b[1m31528/31528\u001b[0m \u001b[32m━━━━━━━━━━━━━━━━━━━━\u001b[0m\u001b[37m\u001b[0m \u001b[1m32s\u001b[0m 1ms/step - accuracy: 0.7442 - loss: 0.5165 - val_accuracy: 0.7333 - val_loss: 0.5279\n",
      "[<InputLayer name=input_layer_64, built=True>, <InputLayer name=input_layer_65, built=True>, <Dense name=dense_87, built=True>, <Dense name=dense_88, built=True>, <InputLayer name=input_layer_66, built=True>, <InputLayer name=input_layer_67, built=True>, <Concatenate name=concatenate_16, built=True>, <Dense name=dense_89, built=True>, <Dense name=dense_90, built=True>, <Dense name=dense_91, built=True>, <Dense name=dense_92, built=True>]\n",
      "[(None, 43), (None, 43), (None, 4), (None, 4)]\n",
      "(None, 1)\n",
      "True\n",
      "functional_16\n",
      "model id: 17:\n",
      "{'layers': 3, 'layer_size': 256, 'learn_rate': 0.01}\n",
      "training on new dataset\n",
      "Epoch 1/4\n"
     ]
    },
    {
     "name": "stderr",
     "output_type": "stream",
     "text": [
      "/opt/anaconda3/lib/python3.12/site-packages/keras/src/models/functional.py:225: UserWarning: The structure of `inputs` doesn't match the expected structure: ['keras_tensor_178', 'keras_tensor_179', 'keras_tensor_180', 'keras_tensor_181']. Received: the structure of inputs=('*', '*', '*', '*')\n",
      "  warnings.warn(\n"
     ]
    },
    {
     "name": "stdout",
     "output_type": "stream",
     "text": [
      "\u001b[1m31528/31528\u001b[0m \u001b[32m━━━━━━━━━━━━━━━━━━━━\u001b[0m\u001b[37m\u001b[0m \u001b[1m34s\u001b[0m 1ms/step - accuracy: 0.7084 - loss: 0.5642 - val_accuracy: 0.7387 - val_loss: 0.5333\n",
      "Epoch 2/4\n",
      "\u001b[1m31528/31528\u001b[0m \u001b[32m━━━━━━━━━━━━━━━━━━━━\u001b[0m\u001b[37m\u001b[0m \u001b[1m33s\u001b[0m 1ms/step - accuracy: 0.7364 - loss: 0.5285 - val_accuracy: 0.7383 - val_loss: 0.5256\n",
      "Epoch 3/4\n",
      "\u001b[1m31528/31528\u001b[0m \u001b[32m━━━━━━━━━━━━━━━━━━━━\u001b[0m\u001b[37m\u001b[0m \u001b[1m33s\u001b[0m 1ms/step - accuracy: 0.7387 - loss: 0.5269 - val_accuracy: 0.7220 - val_loss: 0.5456\n",
      "Epoch 4/4\n",
      "\u001b[1m31528/31528\u001b[0m \u001b[32m━━━━━━━━━━━━━━━━━━━━\u001b[0m\u001b[37m\u001b[0m \u001b[1m32s\u001b[0m 1ms/step - accuracy: 0.7394 - loss: 0.5261 - val_accuracy: 0.7345 - val_loss: 0.5312\n",
      "[<InputLayer name=input_layer_68, built=True>, <InputLayer name=input_layer_69, built=True>, <Dense name=dense_93, built=True>, <Dense name=dense_94, built=True>, <InputLayer name=input_layer_70, built=True>, <InputLayer name=input_layer_71, built=True>, <Concatenate name=concatenate_17, built=True>, <Dense name=dense_95, built=True>, <Dense name=dense_96, built=True>, <Dense name=dense_97, built=True>, <Dense name=dense_98, built=True>]\n",
      "[(None, 43), (None, 43), (None, 4), (None, 4)]\n",
      "(None, 1)\n",
      "True\n",
      "functional_17\n"
     ]
    }
   ],
   "source": [
    "all_models = test_params()\n",
    "# theModel = all_models[-1]  # Access the last model generated\n",
    "\n",
    "\n"
   ]
  },
  {
   "cell_type": "code",
   "execution_count": 17,
   "metadata": {},
   "outputs": [],
   "source": [
    "# print(len(test_x1s[0]))\n",
    "# print(len(test_x4s[0]))\n",
    "# np.array(test_x1s).shape\n",
    "# np.array(test_x1s[0]).shape"
   ]
  },
  {
   "cell_type": "code",
   "execution_count": 18,
   "metadata": {},
   "outputs": [
    {
     "name": "stdout",
     "output_type": "stream",
     "text": [
      "\u001b[1m  502/88672\u001b[0m \u001b[37m━━━━━━━━━━━━━━━━━━━━\u001b[0m \u001b[1m18s\u001b[0m 213us/step - accuracy: 0.7541 - loss: 0.4979"
     ]
    },
    {
     "name": "stderr",
     "output_type": "stream",
     "text": [
      "/opt/anaconda3/lib/python3.12/site-packages/keras/src/models/functional.py:225: UserWarning: The structure of `inputs` doesn't match the expected structure: ['keras_tensor', 'keras_tensor_1', 'keras_tensor_2', 'keras_tensor_3']. Received: the structure of inputs=('*', '*', '*', '*')\n",
      "  warnings.warn(\n"
     ]
    },
    {
     "name": "stdout",
     "output_type": "stream",
     "text": [
      "\u001b[1m88672/88672\u001b[0m \u001b[32m━━━━━━━━━━━━━━━━━━━━\u001b[0m\u001b[37m\u001b[0m \u001b[1m17s\u001b[0m 192us/step - accuracy: 0.7481 - loss: 0.5084\n",
      "\n",
      "\n",
      "Test Loss 0.5087596774101257, Test Accuracy 0.747943103313446\n",
      "\u001b[1m  513/88672\u001b[0m \u001b[37m━━━━━━━━━━━━━━━━━━━━\u001b[0m \u001b[1m18s\u001b[0m 205us/step - accuracy: 0.7549 - loss: 0.5046"
     ]
    },
    {
     "name": "stderr",
     "output_type": "stream",
     "text": [
      "/opt/anaconda3/lib/python3.12/site-packages/keras/src/models/functional.py:225: UserWarning: The structure of `inputs` doesn't match the expected structure: ['keras_tensor_10', 'keras_tensor_11', 'keras_tensor_12', 'keras_tensor_13']. Received: the structure of inputs=('*', '*', '*', '*')\n",
      "  warnings.warn(\n"
     ]
    },
    {
     "name": "stdout",
     "output_type": "stream",
     "text": [
      "\u001b[1m88672/88672\u001b[0m \u001b[32m━━━━━━━━━━━━━━━━━━━━\u001b[0m\u001b[37m\u001b[0m \u001b[1m17s\u001b[0m 191us/step - accuracy: 0.7463 - loss: 0.5132\n",
      "\n",
      "\n",
      "Test Loss 0.5135372281074524, Test Accuracy 0.7460399866104126\n",
      "\u001b[1m  787/88672\u001b[0m \u001b[37m━━━━━━━━━━━━━━━━━━━━\u001b[0m \u001b[1m17s\u001b[0m 199us/step - accuracy: 0.7462 - loss: 0.5114"
     ]
    },
    {
     "name": "stderr",
     "output_type": "stream",
     "text": [
      "/opt/anaconda3/lib/python3.12/site-packages/keras/src/models/functional.py:225: UserWarning: The structure of `inputs` doesn't match the expected structure: ['keras_tensor_20', 'keras_tensor_21', 'keras_tensor_22', 'keras_tensor_23']. Received: the structure of inputs=('*', '*', '*', '*')\n",
      "  warnings.warn(\n"
     ]
    },
    {
     "name": "stdout",
     "output_type": "stream",
     "text": [
      "\u001b[1m88672/88672\u001b[0m \u001b[32m━━━━━━━━━━━━━━━━━━━━\u001b[0m\u001b[37m\u001b[0m \u001b[1m17s\u001b[0m 192us/step - accuracy: 0.7437 - loss: 0.5157\n",
      "\n",
      "\n",
      "Test Loss 0.5160747170448303, Test Accuracy 0.7433503270149231\n",
      "\u001b[1m  443/88672\u001b[0m \u001b[37m━━━━━━━━━━━━━━━━━━━━\u001b[0m \u001b[1m20s\u001b[0m 236us/step - accuracy: 0.7555 - loss: 0.4975"
     ]
    },
    {
     "name": "stderr",
     "output_type": "stream",
     "text": [
      "/opt/anaconda3/lib/python3.12/site-packages/keras/src/models/functional.py:225: UserWarning: The structure of `inputs` doesn't match the expected structure: ['keras_tensor_30', 'keras_tensor_31', 'keras_tensor_32', 'keras_tensor_33']. Received: the structure of inputs=('*', '*', '*', '*')\n",
      "  warnings.warn(\n"
     ]
    },
    {
     "name": "stdout",
     "output_type": "stream",
     "text": [
      "\u001b[1m88672/88672\u001b[0m \u001b[32m━━━━━━━━━━━━━━━━━━━━\u001b[0m\u001b[37m\u001b[0m \u001b[1m18s\u001b[0m 204us/step - accuracy: 0.7475 - loss: 0.5097\n",
      "\n",
      "\n",
      "Test Loss 0.5100629329681396, Test Accuracy 0.7473341226577759\n",
      "\u001b[1m  744/88672\u001b[0m \u001b[37m━━━━━━━━━━━━━━━━━━━━\u001b[0m \u001b[1m18s\u001b[0m 209us/step - accuracy: 0.7280 - loss: 0.5484"
     ]
    },
    {
     "name": "stderr",
     "output_type": "stream",
     "text": [
      "/opt/anaconda3/lib/python3.12/site-packages/keras/src/models/functional.py:225: UserWarning: The structure of `inputs` doesn't match the expected structure: ['keras_tensor_40', 'keras_tensor_41', 'keras_tensor_42', 'keras_tensor_43']. Received: the structure of inputs=('*', '*', '*', '*')\n",
      "  warnings.warn(\n"
     ]
    },
    {
     "name": "stdout",
     "output_type": "stream",
     "text": [
      "\u001b[1m88672/88672\u001b[0m \u001b[32m━━━━━━━━━━━━━━━━━━━━\u001b[0m\u001b[37m\u001b[0m \u001b[1m19s\u001b[0m 209us/step - accuracy: 0.7241 - loss: 0.5514\n",
      "\n",
      "\n",
      "Test Loss 0.5516554713249207, Test Accuracy 0.7238500714302063\n",
      "\u001b[1m  488/88672\u001b[0m \u001b[37m━━━━━━━━━━━━━━━━━━━━\u001b[0m \u001b[1m18s\u001b[0m 215us/step - accuracy: 0.7548 - loss: 0.5147"
     ]
    },
    {
     "name": "stderr",
     "output_type": "stream",
     "text": [
      "/opt/anaconda3/lib/python3.12/site-packages/keras/src/models/functional.py:225: UserWarning: The structure of `inputs` doesn't match the expected structure: ['keras_tensor_50', 'keras_tensor_51', 'keras_tensor_52', 'keras_tensor_53']. Received: the structure of inputs=('*', '*', '*', '*')\n",
      "  warnings.warn(\n"
     ]
    },
    {
     "name": "stdout",
     "output_type": "stream",
     "text": [
      "\u001b[1m88672/88672\u001b[0m \u001b[32m━━━━━━━━━━━━━━━━━━━━\u001b[0m\u001b[37m\u001b[0m \u001b[1m18s\u001b[0m 203us/step - accuracy: 0.7426 - loss: 0.5252\n",
      "\n",
      "\n",
      "Test Loss 0.5255786180496216, Test Accuracy 0.7423036098480225\n",
      "\u001b[1m  404/88672\u001b[0m \u001b[37m━━━━━━━━━━━━━━━━━━━━\u001b[0m \u001b[1m22s\u001b[0m 257us/step - accuracy: 0.7567 - loss: 0.4959"
     ]
    },
    {
     "name": "stderr",
     "output_type": "stream",
     "text": [
      "/opt/anaconda3/lib/python3.12/site-packages/keras/src/models/functional.py:225: UserWarning: The structure of `inputs` doesn't match the expected structure: ['keras_tensor_60', 'keras_tensor_61', 'keras_tensor_62', 'keras_tensor_63']. Received: the structure of inputs=('*', '*', '*', '*')\n",
      "  warnings.warn(\n"
     ]
    },
    {
     "name": "stdout",
     "output_type": "stream",
     "text": [
      "\u001b[1m88672/88672\u001b[0m \u001b[32m━━━━━━━━━━━━━━━━━━━━\u001b[0m\u001b[37m\u001b[0m \u001b[1m21s\u001b[0m 240us/step - accuracy: 0.7490 - loss: 0.5085\n",
      "\n",
      "\n",
      "Test Loss 0.5089119076728821, Test Accuracy 0.7486789226531982\n",
      "\u001b[1m  408/88672\u001b[0m \u001b[37m━━━━━━━━━━━━━━━━━━━━\u001b[0m \u001b[1m22s\u001b[0m 259us/step - accuracy: 0.7476 - loss: 0.5054"
     ]
    },
    {
     "name": "stderr",
     "output_type": "stream",
     "text": [
      "/opt/anaconda3/lib/python3.12/site-packages/keras/src/models/functional.py:225: UserWarning: The structure of `inputs` doesn't match the expected structure: ['keras_tensor_70', 'keras_tensor_71', 'keras_tensor_72', 'keras_tensor_73']. Received: the structure of inputs=('*', '*', '*', '*')\n",
      "  warnings.warn(\n"
     ]
    },
    {
     "name": "stdout",
     "output_type": "stream",
     "text": [
      "\u001b[1m88672/88672\u001b[0m \u001b[32m━━━━━━━━━━━━━━━━━━━━\u001b[0m\u001b[37m\u001b[0m \u001b[1m21s\u001b[0m 240us/step - accuracy: 0.7445 - loss: 0.5144\n",
      "\n",
      "\n",
      "Test Loss 0.5147256255149841, Test Accuracy 0.7443018555641174\n",
      "\u001b[1m  413/88672\u001b[0m \u001b[37m━━━━━━━━━━━━━━━━━━━━\u001b[0m \u001b[1m22s\u001b[0m 253us/step - accuracy: 0.7433 - loss: 0.5150"
     ]
    },
    {
     "name": "stderr",
     "output_type": "stream",
     "text": [
      "/opt/anaconda3/lib/python3.12/site-packages/keras/src/models/functional.py:225: UserWarning: The structure of `inputs` doesn't match the expected structure: ['keras_tensor_80', 'keras_tensor_81', 'keras_tensor_82', 'keras_tensor_83']. Received: the structure of inputs=('*', '*', '*', '*')\n",
      "  warnings.warn(\n"
     ]
    },
    {
     "name": "stdout",
     "output_type": "stream",
     "text": [
      "\u001b[1m88672/88672\u001b[0m \u001b[32m━━━━━━━━━━━━━━━━━━━━\u001b[0m\u001b[37m\u001b[0m \u001b[1m21s\u001b[0m 239us/step - accuracy: 0.7380 - loss: 0.5240\n",
      "\n",
      "\n",
      "Test Loss 0.5243818163871765, Test Accuracy 0.7377108335494995\n",
      "\u001b[1m  493/88672\u001b[0m \u001b[37m━━━━━━━━━━━━━━━━━━━━\u001b[0m \u001b[1m19s\u001b[0m 220us/step - accuracy: 0.7534 - loss: 0.4987"
     ]
    },
    {
     "name": "stderr",
     "output_type": "stream",
     "text": [
      "/opt/anaconda3/lib/python3.12/site-packages/keras/src/models/functional.py:225: UserWarning: The structure of `inputs` doesn't match the expected structure: ['keras_tensor_90', 'keras_tensor_91', 'keras_tensor_92', 'keras_tensor_93']. Received: the structure of inputs=('*', '*', '*', '*')\n",
      "  warnings.warn(\n"
     ]
    },
    {
     "name": "stdout",
     "output_type": "stream",
     "text": [
      "\u001b[1m88672/88672\u001b[0m \u001b[32m━━━━━━━━━━━━━━━━━━━━\u001b[0m\u001b[37m\u001b[0m \u001b[1m17s\u001b[0m 195us/step - accuracy: 0.7495 - loss: 0.5081\n",
      "\n",
      "\n",
      "Test Loss 0.5084273815155029, Test Accuracy 0.7492942810058594\n",
      "\u001b[1m  504/88672\u001b[0m \u001b[37m━━━━━━━━━━━━━━━━━━━━\u001b[0m \u001b[1m18s\u001b[0m 209us/step - accuracy: 0.7511 - loss: 0.5053"
     ]
    },
    {
     "name": "stderr",
     "output_type": "stream",
     "text": [
      "/opt/anaconda3/lib/python3.12/site-packages/keras/src/models/functional.py:225: UserWarning: The structure of `inputs` doesn't match the expected structure: ['keras_tensor_101', 'keras_tensor_102', 'keras_tensor_103', 'keras_tensor_104']. Received: the structure of inputs=('*', '*', '*', '*')\n",
      "  warnings.warn(\n"
     ]
    },
    {
     "name": "stdout",
     "output_type": "stream",
     "text": [
      "\u001b[1m88672/88672\u001b[0m \u001b[32m━━━━━━━━━━━━━━━━━━━━\u001b[0m\u001b[37m\u001b[0m \u001b[1m18s\u001b[0m 198us/step - accuracy: 0.7470 - loss: 0.5122\n",
      "\n",
      "\n",
      "Test Loss 0.5125322937965393, Test Accuracy 0.7467187643051147\n",
      "\u001b[1m  515/88672\u001b[0m \u001b[37m━━━━━━━━━━━━━━━━━━━━\u001b[0m \u001b[1m18s\u001b[0m 204us/step - accuracy: 0.7533 - loss: 0.5163"
     ]
    },
    {
     "name": "stderr",
     "output_type": "stream",
     "text": [
      "/opt/anaconda3/lib/python3.12/site-packages/keras/src/models/functional.py:225: UserWarning: The structure of `inputs` doesn't match the expected structure: ['keras_tensor_112', 'keras_tensor_113', 'keras_tensor_114', 'keras_tensor_115']. Received: the structure of inputs=('*', '*', '*', '*')\n",
      "  warnings.warn(\n"
     ]
    },
    {
     "name": "stdout",
     "output_type": "stream",
     "text": [
      "\u001b[1m88672/88672\u001b[0m \u001b[32m━━━━━━━━━━━━━━━━━━━━\u001b[0m\u001b[37m\u001b[0m \u001b[1m17s\u001b[0m 194us/step - accuracy: 0.7430 - loss: 0.5257\n",
      "\n",
      "\n",
      "Test Loss 0.526117742061615, Test Accuracy 0.7425700426101685\n",
      "\u001b[1m  459/88672\u001b[0m \u001b[37m━━━━━━━━━━━━━━━━━━━━\u001b[0m \u001b[1m20s\u001b[0m 231us/step - accuracy: 0.7591 - loss: 0.5004"
     ]
    },
    {
     "name": "stderr",
     "output_type": "stream",
     "text": [
      "/opt/anaconda3/lib/python3.12/site-packages/keras/src/models/functional.py:225: UserWarning: The structure of `inputs` doesn't match the expected structure: ['keras_tensor_123', 'keras_tensor_124', 'keras_tensor_125', 'keras_tensor_126']. Received: the structure of inputs=('*', '*', '*', '*')\n",
      "  warnings.warn(\n"
     ]
    },
    {
     "name": "stdout",
     "output_type": "stream",
     "text": [
      "\u001b[1m88672/88672\u001b[0m \u001b[32m━━━━━━━━━━━━━━━━━━━━\u001b[0m\u001b[37m\u001b[0m \u001b[1m19s\u001b[0m 218us/step - accuracy: 0.7477 - loss: 0.5104\n",
      "\n",
      "\n",
      "Test Loss 0.510728657245636, Test Accuracy 0.7474419474601746\n",
      "\u001b[1m  445/88672\u001b[0m \u001b[37m━━━━━━━━━━━━━━━━━━━━\u001b[0m \u001b[1m20s\u001b[0m 236us/step - accuracy: 0.7534 - loss: 0.4988"
     ]
    },
    {
     "name": "stderr",
     "output_type": "stream",
     "text": [
      "/opt/anaconda3/lib/python3.12/site-packages/keras/src/models/functional.py:225: UserWarning: The structure of `inputs` doesn't match the expected structure: ['keras_tensor_134', 'keras_tensor_135', 'keras_tensor_136', 'keras_tensor_137']. Received: the structure of inputs=('*', '*', '*', '*')\n",
      "  warnings.warn(\n"
     ]
    },
    {
     "name": "stdout",
     "output_type": "stream",
     "text": [
      "\u001b[1m88672/88672\u001b[0m \u001b[32m━━━━━━━━━━━━━━━━━━━━\u001b[0m\u001b[37m\u001b[0m \u001b[1m20s\u001b[0m 227us/step - accuracy: 0.7471 - loss: 0.5109\n",
      "\n",
      "\n",
      "Test Loss 0.5113250017166138, Test Accuracy 0.7468329668045044\n",
      "\u001b[1m  454/88672\u001b[0m \u001b[37m━━━━━━━━━━━━━━━━━━━━\u001b[0m \u001b[1m20s\u001b[0m 229us/step - accuracy: 0.7339 - loss: 0.5345"
     ]
    },
    {
     "name": "stderr",
     "output_type": "stream",
     "text": [
      "/opt/anaconda3/lib/python3.12/site-packages/keras/src/models/functional.py:225: UserWarning: The structure of `inputs` doesn't match the expected structure: ['keras_tensor_145', 'keras_tensor_146', 'keras_tensor_147', 'keras_tensor_148']. Received: the structure of inputs=('*', '*', '*', '*')\n",
      "  warnings.warn(\n"
     ]
    },
    {
     "name": "stdout",
     "output_type": "stream",
     "text": [
      "\u001b[1m88672/88672\u001b[0m \u001b[32m━━━━━━━━━━━━━━━━━━━━\u001b[0m\u001b[37m\u001b[0m \u001b[1m21s\u001b[0m 229us/step - accuracy: 0.7270 - loss: 0.5422\n",
      "\n",
      "\n",
      "Test Loss 0.5426263809204102, Test Accuracy 0.7267237305641174\n",
      "\u001b[1m  283/88672\u001b[0m \u001b[37m━━━━━━━━━━━━━━━━━━━━\u001b[0m \u001b[1m33s\u001b[0m 382us/step - accuracy: 0.7489 - loss: 0.4982"
     ]
    },
    {
     "name": "stderr",
     "output_type": "stream",
     "text": [
      "/opt/anaconda3/lib/python3.12/site-packages/keras/src/models/functional.py:225: UserWarning: The structure of `inputs` doesn't match the expected structure: ['keras_tensor_156', 'keras_tensor_157', 'keras_tensor_158', 'keras_tensor_159']. Received: the structure of inputs=('*', '*', '*', '*')\n",
      "  warnings.warn(\n"
     ]
    },
    {
     "name": "stdout",
     "output_type": "stream",
     "text": [
      "\u001b[1m88672/88672\u001b[0m \u001b[32m━━━━━━━━━━━━━━━━━━━━\u001b[0m\u001b[37m\u001b[0m \u001b[1m29s\u001b[0m 328us/step - accuracy: 0.7426 - loss: 0.5149\n",
      "\n",
      "\n",
      "Test Loss 0.5152139663696289, Test Accuracy 0.7423861026763916\n",
      "\u001b[1m  291/88672\u001b[0m \u001b[37m━━━━━━━━━━━━━━━━━━━━\u001b[0m \u001b[1m32s\u001b[0m 363us/step - accuracy: 0.7476 - loss: 0.5084"
     ]
    },
    {
     "name": "stderr",
     "output_type": "stream",
     "text": [
      "/opt/anaconda3/lib/python3.12/site-packages/keras/src/models/functional.py:225: UserWarning: The structure of `inputs` doesn't match the expected structure: ['keras_tensor_167', 'keras_tensor_168', 'keras_tensor_169', 'keras_tensor_170']. Received: the structure of inputs=('*', '*', '*', '*')\n",
      "  warnings.warn(\n"
     ]
    },
    {
     "name": "stdout",
     "output_type": "stream",
     "text": [
      "\u001b[1m88672/88672\u001b[0m \u001b[32m━━━━━━━━━━━━━━━━━━━━\u001b[0m\u001b[37m\u001b[0m \u001b[1m29s\u001b[0m 332us/step - accuracy: 0.7331 - loss: 0.5269\n",
      "\n",
      "\n",
      "Test Loss 0.5272397398948669, Test Accuracy 0.7328643202781677\n",
      "\u001b[1m88672/88672\u001b[0m \u001b[32m━━━━━━━━━━━━━━━━━━━━\u001b[0m\u001b[37m\u001b[0m \u001b[1m29s\u001b[0m 329us/step - accuracy: 0.7342 - loss: 0.5297\n",
      "\n",
      "\n",
      "Test Loss 0.5299948453903198, Test Accuracy 0.7339110374450684\n",
      "\n",
      "Best Model Test Accuracy: 0.7492942810058594\n"
     ]
    }
   ],
   "source": [
    "theModel = None\n",
    "highest_accuracy = 0\n",
    "for model in all_models:\n",
    "    test_x1 = np.vstack(test_x1s) if test_x1s else np.array([])\n",
    "    test_x2 = np.vstack(test_x2s) if test_x2s else np.array([])\n",
    "    test_x3 = np.vstack(test_x3s) if test_x3s else np.array([])\n",
    "    test_x4 = np.vstack(test_x4s) if test_x4s else np.array([])\n",
    "    test_y = np.vstack(test_ys) if test_ys else np.array([])\n",
    "\n",
    "    # test_x1s[0][0]\n",
    "\n",
    "    test_loss, test_accuracy = model.evaluate([test_x1, test_x2, test_x3, test_x4], test_y)\n",
    "\n",
    "    print('\\n\\nTest Loss {}, Test Accuracy {}'.format(test_loss, test_accuracy))\n",
    "    if test_accuracy > highest_accuracy:\n",
    "        highest_accuracy = test_accuracy\n",
    "        theModel = model\n",
    "        \n",
    "print('\\nBest Model Test Accuracy:', highest_accuracy)\n"
   ]
  },
  {
   "cell_type": "markdown",
   "metadata": {},
   "source": [
    "## Test\n"
   ]
  },
  {
   "cell_type": "code",
   "execution_count": 20,
   "metadata": {},
   "outputs": [],
   "source": [
    "theModel.save('mlp_model.keras')"
   ]
  },
  {
   "cell_type": "code",
   "execution_count": 21,
   "metadata": {},
   "outputs": [
    {
     "name": "stdout",
     "output_type": "stream",
     "text": [
      "xs\n",
      "[array([[0, 0, 1, 1, 0, 0, 0, 0, 1, 0, 0, 0, 0, 0, 0, 0, 0, 0, 0, 1, 0, 0,\n",
      "        1, 0, 0, 0, 0, 0, 0, 0, 0, 0, 0, 0, 0, 0, 0, 0, 0, 0, 0, 0, 0]],\n",
      "      dtype=int32), array([[0, 0, 0, 0, 0, 0, 0, 0, 0, 0, 0, 0, 0, 0, 0, 0, 0, 0, 0, 0, 0, 0,\n",
      "        0, 0, 0, 0, 0, 0, 0, 0, 0, 0, 0, 0, 0, 0, 0, 0, 0, 0, 0, 0, 0]],\n",
      "      dtype=int32), array([[0.87, 0.03, 0.61, 0.61]], dtype=float32), array([[0., 0., 0., 0.]], dtype=float32)]\n",
      "\u001b[1m1/1\u001b[0m \u001b[32m━━━━━━━━━━━━━━━━━━━━\u001b[0m\u001b[37m\u001b[0m \u001b[1m0s\u001b[0m 33ms/step\n",
      "\n",
      "accuracy:\n",
      "1.0\n"
     ]
    }
   ],
   "source": [
    "\n",
    "n = 1\n",
    "g = 0\n",
    "\n",
    "for i in range(n):\n",
    "    expect = test_y[i][0]\n",
    "    x1 = test_x1[i]\n",
    "    x2 = test_x2[i]\n",
    "    x3 = test_x3[i]\n",
    "    x4 = test_x4[i]\n",
    "    xs = [ np.array([x1]), np.array([x2]), np.array([x3]), np.array([x4]) ]\n",
    "    print('xs')\n",
    "    print(xs)\n",
    "    \n",
    "    predict = theModel.predict(xs)\n",
    "    predict = predict[0][0]\n",
    "    if predict > 0.5:\n",
    "        predict = 1\n",
    "    else:\n",
    "        predict = 0\n",
    "        \n",
    "    if predict == expect:\n",
    "        g += 1.0\n",
    "    \n",
    "#     print(f'Expect {expect}, predict {predict}')\n",
    "    \n",
    "    \n",
    "print()\n",
    "print('accuracy:')\n",
    "print(g / n)"
   ]
  },
  {
   "cell_type": "code",
   "execution_count": 67,
   "metadata": {},
   "outputs": [
    {
     "name": "stdout",
     "output_type": "stream",
     "text": [
      "[[ 1  2  3]\n",
      " [ 4  5  6]\n",
      " [ 7  8  9]\n",
      " [10 11 12]\n",
      " [13 14 15]\n",
      " [16 17 18]]\n"
     ]
    },
    {
     "data": {
      "text/plain": [
       "(6, 3)"
      ]
     },
     "execution_count": 67,
     "metadata": {},
     "output_type": "execute_result"
    }
   ],
   "source": [
    "import numpy as np\n",
    "\n",
    "array1 = np.array([[1, 2, 3],\n",
    "                   [4, 5, 6]])\n",
    "\n",
    "array2 = np.array([[7, 8, 9],\n",
    "                   [10, 11, 12]])\n",
    "\n",
    "array3 = np.array([[13, 14, 15],\n",
    "                   [16, 17, 18]])\n",
    "\n",
    "stacked_array = np.vstack([array1, array2, array3])\n",
    "print(stacked_array)\n",
    "stacked_array.shape"
   ]
  }
 ],
 "metadata": {
  "kernelspec": {
   "display_name": "base",
   "language": "python",
   "name": "python3"
  },
  "language_info": {
   "codemirror_mode": {
    "name": "ipython",
    "version": 3
   },
   "file_extension": ".py",
   "mimetype": "text/x-python",
   "name": "python",
   "nbconvert_exporter": "python",
   "pygments_lexer": "ipython3",
   "version": "3.12.4"
  }
 },
 "nbformat": 4,
 "nbformat_minor": 2
}
